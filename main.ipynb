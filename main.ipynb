{
 "cells": [
  {
   "cell_type": "code",
   "execution_count": 1,
   "metadata": {
    "collapsed": true
   },
   "outputs": [],
   "source": [
    "from abc import ABC\n",
    "\n",
    "import os\n",
    "import torch\n",
    "import pandas as pd\n",
    "from torch.utils.data import Dataset, DataLoader"
   ]
  },
  {
   "cell_type": "code",
   "execution_count": 2,
   "outputs": [],
   "source": [
    "train_fullname = './data/train_data_public.csv'\n",
    "test_fullname = './data/test_public.csv'"
   ],
   "metadata": {
    "collapsed": false
   }
  },
  {
   "cell_type": "code",
   "execution_count": 3,
   "outputs": [],
   "source": [
    "class AnnoDataSet(Dataset, ABC):\n",
    "    def __init__(self,texts: list[str], labels: list[str] = None):\n",
    "        super(Dataset, self).__init__()\n",
    "        self.texts = texts\n",
    "        self.labels = labels\n",
    "\n",
    "    def __getitem__(self, item):\n",
    "        text = self.texts[item]\n",
    "        label = self.labels[item] if self.labels is not None else None\n",
    "        return text, label\n",
    "\n",
    "    def __len__(self):\n",
    "        return len(self.labels)"
   ],
   "metadata": {
    "collapsed": false
   }
  },
  {
   "cell_type": "code",
   "execution_count": 4,
   "outputs": [],
   "source": [
    "def get_dataset() -> (AnnoDataSet, AnnoDataSet, AnnoDataSet):\n",
    "    train_set, valid_set, test_set = None, None, None\n",
    "\n",
    "    train_raw = pd.read_csv(train_fullname)\n",
    "    train_texts: list[str] = train_raw['text'].to_list()\n",
    "    train_labels: list[str] = train_raw['BIO_anno'].to_list()\n",
    "\n",
    "    train_set = AnnoDataSet(train_texts, train_labels)\n",
    "\n",
    "    test_raw = pd.read_csv(test_fullname)\n",
    "    test_texts: list[str] = test_raw['text'].to_list()\n",
    "    test_labels = None\n",
    "\n",
    "    test_set = AnnoDataSet(test_texts, test_labels)\n",
    "\n",
    "    return train_set, valid_set, test_set"
   ],
   "metadata": {
    "collapsed": false
   }
  },
  {
   "cell_type": "code",
   "execution_count": 5,
   "outputs": [],
   "source": [
    "# 编码labels\n",
    "class SimpleVocab:\n",
    "    def __init__(self):\n",
    "        labels = pd.read_csv(train_fullname)['BIO_anno'].to_list()\n",
    "        labels = [label_line.split() for label_line in labels]\n",
    "        all_tokens = [token for label_line in labels for token in label_line] # 这个写法每次看一遍都觉得震撼\n",
    "        self.token_dict = {}\n",
    "        self.token_array = []\n",
    "\n",
    "        # zero for none\n",
    "        self.token_dict['None'] = len(self.token_array)\n",
    "        self.token_array.append('None')\n",
    "\n",
    "        for token in all_tokens:\n",
    "            if token not in self.token_dict:\n",
    "                self.token_dict[token] = len(self.token_array)\n",
    "                self.token_array.append(token)\n",
    "\n",
    "    def __call__(self, tokens):\n",
    "        assert isinstance(tokens, (list, tuple, str))\n",
    "        if isinstance(tokens, (list, tuple)):\n",
    "            return [self(token) for token in tokens]\n",
    "        else:\n",
    "            return self.token_dict[tokens]\n",
    "\n",
    "    def __len__(self):\n",
    "        return len(self.token_array)\n",
    "\n",
    "    def to_tokens(self, ids):\n",
    "        assert isinstance(ids, (list, tuple, int))\n",
    "        if isinstance(ids, (list, tuple)):\n",
    "            return [self.to_tokens(idx) for idx in ids]\n",
    "        else:\n",
    "            return self.token_array[ids]\n",
    "\n",
    "    def get_none(self):\n",
    "        return self('None')"
   ],
   "metadata": {
    "collapsed": false
   }
  },
  {
   "cell_type": "code",
   "execution_count": 20,
   "outputs": [],
   "source": [
    "def collect(sample:list[tuple[str, str]], tokenizer, label_vocab) -> torch.Tensor:\n",
    "    texts, labels = zip(*sample)\n",
    "    tokens = [list(text) for text in texts]\n",
    "    ret = tokenizer(tokens, padding=True, is_split_into_words=True, return_tensors='pt')\n",
    "\n",
    "    if labels[0] is None:\n",
    "        return ret\n",
    "\n",
    "\n",
    "    labels = [label_line.split() for label_line in labels]\n",
    "\n",
    "    # 对齐label\n",
    "    none_anno = label_vocab.get_none()\n",
    "    max_len = ret['input_ids'][0].shape[-1]\n",
    "    print(max_len)\n",
    "    print(len(ret['input_ids']))\n",
    "    for idx in range(len(labels)):\n",
    "        if len(labels[idx]) + 2 >= 89 :print(labels[idx])\n",
    "        assert ret['attention_mask'][idx][len(labels[idx]) + 2] == 0  # 有效长度应该是label长度+2\n",
    "        labels[idx] = [none_anno] + labels[idx] + [none_anno]\n",
    "        labels[idx] = labels[idx] + [none_anno] * (max_len - len(labels[idx]))\n",
    "        assert len(labels[idx]) == max_len\n",
    "\n",
    "    ret['labels'] = torch.tensor(label_vocab(labels), dtype=torch.int32)\n",
    "    return ret\n"
   ],
   "metadata": {
    "collapsed": false
   }
  },
  {
   "cell_type": "code",
   "execution_count": 7,
   "outputs": [
    {
     "name": "stderr",
     "output_type": "stream",
     "text": [
      "Using cache found in C:\\Users\\Justi/.cache\\torch\\hub\\huggingface_pytorch-transformers_main\n"
     ]
    }
   ],
   "source": [
    "model_name = 'bert-base-chinese'\n",
    "bert_tokenizer = torch.hub.load('huggingface/pytorch-transformers', 'tokenizer', model_name)\n",
    "\n",
    "train_dataset, valid_dataset, test_dataset = get_dataset()"
   ],
   "metadata": {
    "collapsed": false
   }
  },
  {
   "cell_type": "code",
   "execution_count": 21,
   "outputs": [
    {
     "name": "stdout",
     "output_type": "stream",
     "text": [
      "89\n",
      "128\n",
      "['O', 'O', 'O', 'O', 'O', 'O', 'O', 'O', 'O', 'O', 'O', 'O', 'O', 'O', 'B-COMMENTS_ADJ', 'O', 'O', 'O', 'O', 'O', 'O', 'O', 'O', 'O', 'B-COMMENTS_N', 'I-COMMENTS_N', 'O', 'O', 'O', 'O', 'O', 'O', 'O', 'O', 'O', 'O', 'O', 'O', 'O', 'O', 'B-COMMENTS_N', 'I-COMMENTS_N', 'I-COMMENTS_N', 'B-COMMENTS_N', 'I-COMMENTS_N', 'O', 'O', 'O', 'O', 'O', 'O', 'B-COMMENTS_N', 'I-COMMENTS_N', 'O', 'O', 'O', 'O', 'O', 'O', 'O', 'O', 'O', 'O', 'O', 'O', 'O', 'O', 'O', 'O', 'O', 'B-COMMENTS_N', 'I-COMMENTS_N', 'O', 'O', 'O', 'O', 'B-COMMENTS_ADJ', 'O', 'O', 'O', 'O', 'O', 'O', 'O', 'O', 'O', 'O']\n"
     ]
    },
    {
     "ename": "IndexError",
     "evalue": "index 89 is out of bounds for dimension 0 with size 89",
     "output_type": "error",
     "traceback": [
      "\u001B[1;31m---------------------------------------------------------------------------\u001B[0m",
      "\u001B[1;31mIndexError\u001B[0m                                Traceback (most recent call last)",
      "Cell \u001B[1;32mIn[21], line 8\u001B[0m\n\u001B[0;32m      1\u001B[0m batch_size \u001B[38;5;241m=\u001B[39m \u001B[38;5;241m128\u001B[39m\n\u001B[0;32m      2\u001B[0m train_iter \u001B[38;5;241m=\u001B[39m DataLoader(\n\u001B[0;32m      3\u001B[0m     train_dataset,\n\u001B[0;32m      4\u001B[0m     batch_size,\n\u001B[0;32m      5\u001B[0m     collate_fn\u001B[38;5;241m=\u001B[39m\u001B[38;5;28;01mlambda\u001B[39;00m x: collect(x, bert_tokenizer, SimpleVocab()),\n\u001B[0;32m      6\u001B[0m     num_workers\u001B[38;5;241m=\u001B[39m\u001B[38;5;241m0\u001B[39m\n\u001B[0;32m      7\u001B[0m )\n\u001B[1;32m----> 8\u001B[0m \u001B[38;5;28;43mnext\u001B[39;49m\u001B[43m(\u001B[49m\u001B[38;5;28;43miter\u001B[39;49m\u001B[43m(\u001B[49m\u001B[43mtrain_iter\u001B[49m\u001B[43m)\u001B[49m\u001B[43m)\u001B[49m\n",
      "File \u001B[1;32m~\\miniconda3\\envs\\pytorch\\lib\\site-packages\\torch\\utils\\data\\dataloader.py:628\u001B[0m, in \u001B[0;36m_BaseDataLoaderIter.__next__\u001B[1;34m(self)\u001B[0m\n\u001B[0;32m    625\u001B[0m \u001B[38;5;28;01mif\u001B[39;00m \u001B[38;5;28mself\u001B[39m\u001B[38;5;241m.\u001B[39m_sampler_iter \u001B[38;5;129;01mis\u001B[39;00m \u001B[38;5;28;01mNone\u001B[39;00m:\n\u001B[0;32m    626\u001B[0m     \u001B[38;5;66;03m# TODO(https://github.com/pytorch/pytorch/issues/76750)\u001B[39;00m\n\u001B[0;32m    627\u001B[0m     \u001B[38;5;28mself\u001B[39m\u001B[38;5;241m.\u001B[39m_reset()  \u001B[38;5;66;03m# type: ignore[call-arg]\u001B[39;00m\n\u001B[1;32m--> 628\u001B[0m data \u001B[38;5;241m=\u001B[39m \u001B[38;5;28;43mself\u001B[39;49m\u001B[38;5;241;43m.\u001B[39;49m\u001B[43m_next_data\u001B[49m\u001B[43m(\u001B[49m\u001B[43m)\u001B[49m\n\u001B[0;32m    629\u001B[0m \u001B[38;5;28mself\u001B[39m\u001B[38;5;241m.\u001B[39m_num_yielded \u001B[38;5;241m+\u001B[39m\u001B[38;5;241m=\u001B[39m \u001B[38;5;241m1\u001B[39m\n\u001B[0;32m    630\u001B[0m \u001B[38;5;28;01mif\u001B[39;00m \u001B[38;5;28mself\u001B[39m\u001B[38;5;241m.\u001B[39m_dataset_kind \u001B[38;5;241m==\u001B[39m _DatasetKind\u001B[38;5;241m.\u001B[39mIterable \u001B[38;5;129;01mand\u001B[39;00m \\\n\u001B[0;32m    631\u001B[0m         \u001B[38;5;28mself\u001B[39m\u001B[38;5;241m.\u001B[39m_IterableDataset_len_called \u001B[38;5;129;01mis\u001B[39;00m \u001B[38;5;129;01mnot\u001B[39;00m \u001B[38;5;28;01mNone\u001B[39;00m \u001B[38;5;129;01mand\u001B[39;00m \\\n\u001B[0;32m    632\u001B[0m         \u001B[38;5;28mself\u001B[39m\u001B[38;5;241m.\u001B[39m_num_yielded \u001B[38;5;241m>\u001B[39m \u001B[38;5;28mself\u001B[39m\u001B[38;5;241m.\u001B[39m_IterableDataset_len_called:\n",
      "File \u001B[1;32m~\\miniconda3\\envs\\pytorch\\lib\\site-packages\\torch\\utils\\data\\dataloader.py:671\u001B[0m, in \u001B[0;36m_SingleProcessDataLoaderIter._next_data\u001B[1;34m(self)\u001B[0m\n\u001B[0;32m    669\u001B[0m \u001B[38;5;28;01mdef\u001B[39;00m \u001B[38;5;21m_next_data\u001B[39m(\u001B[38;5;28mself\u001B[39m):\n\u001B[0;32m    670\u001B[0m     index \u001B[38;5;241m=\u001B[39m \u001B[38;5;28mself\u001B[39m\u001B[38;5;241m.\u001B[39m_next_index()  \u001B[38;5;66;03m# may raise StopIteration\u001B[39;00m\n\u001B[1;32m--> 671\u001B[0m     data \u001B[38;5;241m=\u001B[39m \u001B[38;5;28;43mself\u001B[39;49m\u001B[38;5;241;43m.\u001B[39;49m\u001B[43m_dataset_fetcher\u001B[49m\u001B[38;5;241;43m.\u001B[39;49m\u001B[43mfetch\u001B[49m\u001B[43m(\u001B[49m\u001B[43mindex\u001B[49m\u001B[43m)\u001B[49m  \u001B[38;5;66;03m# may raise StopIteration\u001B[39;00m\n\u001B[0;32m    672\u001B[0m     \u001B[38;5;28;01mif\u001B[39;00m \u001B[38;5;28mself\u001B[39m\u001B[38;5;241m.\u001B[39m_pin_memory:\n\u001B[0;32m    673\u001B[0m         data \u001B[38;5;241m=\u001B[39m _utils\u001B[38;5;241m.\u001B[39mpin_memory\u001B[38;5;241m.\u001B[39mpin_memory(data, \u001B[38;5;28mself\u001B[39m\u001B[38;5;241m.\u001B[39m_pin_memory_device)\n",
      "File \u001B[1;32m~\\miniconda3\\envs\\pytorch\\lib\\site-packages\\torch\\utils\\data\\_utils\\fetch.py:61\u001B[0m, in \u001B[0;36m_MapDatasetFetcher.fetch\u001B[1;34m(self, possibly_batched_index)\u001B[0m\n\u001B[0;32m     59\u001B[0m \u001B[38;5;28;01melse\u001B[39;00m:\n\u001B[0;32m     60\u001B[0m     data \u001B[38;5;241m=\u001B[39m \u001B[38;5;28mself\u001B[39m\u001B[38;5;241m.\u001B[39mdataset[possibly_batched_index]\n\u001B[1;32m---> 61\u001B[0m \u001B[38;5;28;01mreturn\u001B[39;00m \u001B[38;5;28;43mself\u001B[39;49m\u001B[38;5;241;43m.\u001B[39;49m\u001B[43mcollate_fn\u001B[49m\u001B[43m(\u001B[49m\u001B[43mdata\u001B[49m\u001B[43m)\u001B[49m\n",
      "Cell \u001B[1;32mIn[21], line 5\u001B[0m, in \u001B[0;36m<lambda>\u001B[1;34m(x)\u001B[0m\n\u001B[0;32m      1\u001B[0m batch_size \u001B[38;5;241m=\u001B[39m \u001B[38;5;241m128\u001B[39m\n\u001B[0;32m      2\u001B[0m train_iter \u001B[38;5;241m=\u001B[39m DataLoader(\n\u001B[0;32m      3\u001B[0m     train_dataset,\n\u001B[0;32m      4\u001B[0m     batch_size,\n\u001B[1;32m----> 5\u001B[0m     collate_fn\u001B[38;5;241m=\u001B[39m\u001B[38;5;28;01mlambda\u001B[39;00m x: \u001B[43mcollect\u001B[49m\u001B[43m(\u001B[49m\u001B[43mx\u001B[49m\u001B[43m,\u001B[49m\u001B[43m \u001B[49m\u001B[43mbert_tokenizer\u001B[49m\u001B[43m,\u001B[49m\u001B[43m \u001B[49m\u001B[43mSimpleVocab\u001B[49m\u001B[43m(\u001B[49m\u001B[43m)\u001B[49m\u001B[43m)\u001B[49m,\n\u001B[0;32m      6\u001B[0m     num_workers\u001B[38;5;241m=\u001B[39m\u001B[38;5;241m0\u001B[39m\n\u001B[0;32m      7\u001B[0m )\n\u001B[0;32m      8\u001B[0m \u001B[38;5;28mnext\u001B[39m(\u001B[38;5;28miter\u001B[39m(train_iter))\n",
      "Cell \u001B[1;32mIn[20], line 19\u001B[0m, in \u001B[0;36mcollect\u001B[1;34m(sample, tokenizer, label_vocab)\u001B[0m\n\u001B[0;32m     17\u001B[0m \u001B[38;5;28;01mfor\u001B[39;00m idx \u001B[38;5;129;01min\u001B[39;00m \u001B[38;5;28mrange\u001B[39m(\u001B[38;5;28mlen\u001B[39m(labels)):\n\u001B[0;32m     18\u001B[0m     \u001B[38;5;28;01mif\u001B[39;00m \u001B[38;5;28mlen\u001B[39m(labels[idx]) \u001B[38;5;241m+\u001B[39m \u001B[38;5;241m2\u001B[39m \u001B[38;5;241m>\u001B[39m\u001B[38;5;241m=\u001B[39m \u001B[38;5;241m89\u001B[39m :\u001B[38;5;28mprint\u001B[39m(labels[idx])\n\u001B[1;32m---> 19\u001B[0m     \u001B[38;5;28;01massert\u001B[39;00m \u001B[43mret\u001B[49m\u001B[43m[\u001B[49m\u001B[38;5;124;43m'\u001B[39;49m\u001B[38;5;124;43mattention_mask\u001B[39;49m\u001B[38;5;124;43m'\u001B[39;49m\u001B[43m]\u001B[49m\u001B[43m[\u001B[49m\u001B[43midx\u001B[49m\u001B[43m]\u001B[49m\u001B[43m[\u001B[49m\u001B[38;5;28;43mlen\u001B[39;49m\u001B[43m(\u001B[49m\u001B[43mlabels\u001B[49m\u001B[43m[\u001B[49m\u001B[43midx\u001B[49m\u001B[43m]\u001B[49m\u001B[43m)\u001B[49m\u001B[43m \u001B[49m\u001B[38;5;241;43m+\u001B[39;49m\u001B[43m \u001B[49m\u001B[38;5;241;43m2\u001B[39;49m\u001B[43m]\u001B[49m \u001B[38;5;241m==\u001B[39m \u001B[38;5;241m0\u001B[39m  \u001B[38;5;66;03m# 有效长度应该是label长度+2\u001B[39;00m\n\u001B[0;32m     20\u001B[0m     labels[idx] \u001B[38;5;241m=\u001B[39m [none_anno] \u001B[38;5;241m+\u001B[39m labels[idx] \u001B[38;5;241m+\u001B[39m [none_anno]\n\u001B[0;32m     21\u001B[0m     labels[idx] \u001B[38;5;241m=\u001B[39m labels[idx] \u001B[38;5;241m+\u001B[39m [none_anno] \u001B[38;5;241m*\u001B[39m (max_len \u001B[38;5;241m-\u001B[39m \u001B[38;5;28mlen\u001B[39m(labels[idx]))\n",
      "\u001B[1;31mIndexError\u001B[0m: index 89 is out of bounds for dimension 0 with size 89"
     ]
    }
   ],
   "source": [
    "batch_size = 128\n",
    "train_iter = DataLoader(\n",
    "    train_dataset,\n",
    "    batch_size,\n",
    "    collate_fn=lambda x: collect(x, bert_tokenizer, SimpleVocab()),\n",
    "    num_workers=0\n",
    ")\n",
    "next(iter(train_iter))"
   ],
   "metadata": {
    "collapsed": false
   }
  },
  {
   "cell_type": "code",
   "execution_count": null,
   "outputs": [],
   "source": [
    "train_raw = pd.read_csv(train_fullname)"
   ],
   "metadata": {
    "collapsed": false,
    "pycharm": {
     "is_executing": true
    }
   }
  }
 ],
 "metadata": {
  "kernelspec": {
   "display_name": "Python 3",
   "language": "python",
   "name": "python3"
  },
  "language_info": {
   "codemirror_mode": {
    "name": "ipython",
    "version": 2
   },
   "file_extension": ".py",
   "mimetype": "text/x-python",
   "name": "python",
   "nbconvert_exporter": "python",
   "pygments_lexer": "ipython2",
   "version": "2.7.6"
  }
 },
 "nbformat": 4,
 "nbformat_minor": 0
}
