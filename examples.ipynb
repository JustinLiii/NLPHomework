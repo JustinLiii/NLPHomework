{
 "cells": [
  {
   "cell_type": "code",
   "execution_count": 4,
   "metadata": {
    "ExecuteTime": {
     "end_time": "2023-04-18T12:12:16.169796Z",
     "start_time": "2023-04-18T12:12:15.675252Z"
    }
   },
   "outputs": [],
   "source": [
    "import pandas as pd"
   ]
  },
  {
   "cell_type": "code",
   "execution_count": 5,
   "metadata": {
    "ExecuteTime": {
     "end_time": "2023-04-18T12:12:16.175955Z",
     "start_time": "2023-04-18T12:12:16.171304Z"
    }
   },
   "outputs": [],
   "source": [
    "train_fullname = 'data/train_data_public.csv'"
   ]
  },
  {
   "cell_type": "code",
   "execution_count": 6,
   "metadata": {
    "ExecuteTime": {
     "end_time": "2023-04-18T12:12:17.045677Z",
     "start_time": "2023-04-18T12:12:17.041351Z"
    },
    "collapsed": true
   },
   "outputs": [],
   "source": [
    "class SimpleVocab:\n",
    "    def __init__(self):\n",
    "        labels = pd.read_csv(train_fullname)['BIO_anno'].to_list()\n",
    "        labels = [label_line.split() for label_line in labels]\n",
    "        all_tokens = [token for label_line in labels for token in label_line] # 这个写法每次看一遍都觉得震撼\n",
    "        self.token_dict = {}\n",
    "        self.token_array = []\n",
    "\n",
    "        # O means none\n",
    "        self.token_dict['O'] = len(self.token_array)\n",
    "        self.token_array.append('O')\n",
    "\n",
    "        for token in all_tokens:\n",
    "            if token not in self.token_dict:\n",
    "                self.token_dict[token] = len(self.token_array)\n",
    "                self.token_array.append(token)\n",
    "\n",
    "    def __call__(self, tokens):\n",
    "        assert isinstance(tokens, (list, tuple, str))\n",
    "        if isinstance(tokens, (list, tuple)):\n",
    "            return [self(token) for token in tokens]\n",
    "        else:\n",
    "            return self.token_dict[tokens]\n",
    "\n",
    "    def __len__(self):\n",
    "        return len(self.token_array)\n",
    "\n",
    "    def to_tokens(self, ids):\n",
    "        assert isinstance(ids, (list, tuple, int))\n",
    "        if isinstance(ids, (list, tuple)):\n",
    "            return [self.to_tokens(idx) for idx in ids]\n",
    "        else:\n",
    "            return self.token_array[ids]\n",
    "\n",
    "    def get_none_token(self):\n",
    "        return 'O'\n",
    "\n",
    "    def get_none_id(self):\n",
    "        return self('O')\n",
    "\n",
    "    def get_token_dict(self):\n",
    "        return self.token_dict"
   ]
  },
  {
   "cell_type": "markdown",
   "metadata": {},
   "source": [
    "# 将BIO编码序列转换为标注实体四元组"
   ]
  },
  {
   "cell_type": "markdown",
   "metadata": {},
   "source": [
    "## 实体标记\n",
    "将不同种类的BIO标签编码为int序列，对应如下"
   ]
  },
  {
   "cell_type": "code",
   "execution_count": 7,
   "metadata": {
    "ExecuteTime": {
     "end_time": "2023-04-18T12:12:18.781615Z",
     "start_time": "2023-04-18T12:12:18.715918Z"
    }
   },
   "outputs": [
    {
     "name": "stdout",
     "output_type": "stream",
     "text": [
      "{'O': 0, 'B-BANK': 1, 'I-BANK': 2, 'B-COMMENTS_N': 3, 'I-COMMENTS_N': 4, 'B-COMMENTS_ADJ': 5, 'I-COMMENTS_ADJ': 6, 'B-PRODUCT': 7, 'I-PRODUCT': 8}\n"
     ]
    }
   ],
   "source": [
    "# BIO 标签被编码为int序列\n",
    "lable_vocab = SimpleVocab()\n",
    "print(lable_vocab.get_token_dict())"
   ]
  },
  {
   "cell_type": "markdown",
   "metadata": {},
   "source": [
    "- `O`: $0$, 其他\n",
    "- `B-BANK`: $1$, 银行实体开始\n",
    "- `I-BANK`: $2$, 银行实体中间\n",
    "- `B-COMMENTS_N`: $3$, 评论实体开始（名词）\n",
    "- `I-COMMENTS_N`: $4$, 评论实体中间（名词）\n",
    "- `B-COMMENTS_ADJ`: $5$, 评论实体开始（形容词）\n",
    "- `I-COMMENTS_ADJ`: $6$, 评论实体中间（形容词）\n",
    "- `B-PRODUCT`: $7$, 产品实体开始\n",
    "- `I-PRODUCT`: $8$, 产品实体中间\n",
    "\n",
    "需要根据这些标注，在一句话中找出识别出的实体，每个实体对应一个 `<实体类型，起始位置，结束位置>`\n",
    "如上，实体类型有 `BANK`, `COMMENTS_N`, `COMMENTS_ADJ`, `PRODUCT`\n",
    "\n",
    "![](1.png)\n"
   ]
  },
  {
   "cell_type": "markdown",
   "metadata": {},
   "source": [
    "## 准确度判断\n",
    "\n",
    "### 对每个样本\n",
    "你会获得两个标记序列 `predict` 和 `target`\n",
    "`predict` 是我们自己训练的模型做出的判断\n",
    "`target` 是人工标注的正确答案\n",
    "\n",
    "对两个序列，需要分别找到被如上方式标出的实体数量 |S| 和 |G|\n",
    "以及标记正确（即类型，开头，结尾都匹配）的实体数量 |S∩G|\n",
    "输出对每个样本的这三个数量"
   ]
  }
 ],
 "metadata": {
  "kernelspec": {
   "display_name": "Python 3 (ipykernel)",
   "language": "python",
   "name": "python3"
  },
  "language_info": {
   "codemirror_mode": {
    "name": "ipython",
    "version": 3
   },
   "file_extension": ".py",
   "mimetype": "text/x-python",
   "name": "python",
   "nbconvert_exporter": "python",
   "pygments_lexer": "ipython3",
   "version": "3.11.2"
  }
 },
 "nbformat": 4,
 "nbformat_minor": 1
}
