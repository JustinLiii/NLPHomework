{
 "cells": [
  {
   "cell_type": "code",
   "execution_count": 1,
   "metadata": {
    "collapsed": true
   },
   "outputs": [],
   "source": [
    "import pandas as pd\n",
    "import torch"
   ]
  },
  {
   "cell_type": "markdown",
   "source": [
    "# 数据清洗注意事项\n",
    "- 类别标注是按字符标注的，需要手动按字符分词\n",
    "- 注意分词后会在前后加入`[CLS]`和`[SEP]`，正常应该比标签长2\n",
    "\n",
    "以下是示例"
   ],
   "metadata": {
    "collapsed": false
   }
  },
  {
   "cell_type": "code",
   "execution_count": 2,
   "outputs": [
    {
     "name": "stderr",
     "output_type": "stream",
     "text": [
      "Using cache found in C:\\Users\\Justi/.cache\\torch\\hub\\huggingface_pytorch-transformers_main\n"
     ]
    }
   ],
   "source": [
    "train_fullname = './data/train_data_public.csv'\n",
    "train_raw = pd.read_csv(train_fullname)\n",
    "bert_tokenizer = torch.hub.load('huggingface/pytorch-transformers', 'tokenizer', 'bert-base-chinese')"
   ],
   "metadata": {
    "collapsed": false
   }
  },
  {
   "cell_type": "markdown",
   "source": [
    "**自动分词**"
   ],
   "metadata": {
    "collapsed": false
   }
  },
  {
   "cell_type": "code",
   "execution_count": 3,
   "outputs": [
    {
     "name": "stdout",
     "output_type": "stream",
     "text": [
      "[CLS] 卡 多 不 好 批?? 。 我 15. 8 额 度 ， 申 了 两 次 没 有 批 ， 就 因 为 多 头 授 信 。 [SEP]\n",
      "B-PRODUCT O O O O O O O O O O O O O O O O O O O O O O O O O O O O O O O\n",
      "得到的分词数：33, 标注数：32\n"
     ]
    }
   ],
   "source": [
    "output = bert_tokenizer(train_raw.iloc[187,1])\n",
    "print(bert_tokenizer.decode(output['input_ids']))\n",
    "print(train_raw.iloc[187,2])\n",
    "print(f'得到的分词数：{len(output[\"input_ids\"])}, 标注数：{len(train_raw.iloc[187,2].split())}')"
   ],
   "metadata": {
    "collapsed": false
   }
  },
  {
   "cell_type": "markdown",
   "source": [
    "**按字符分词**"
   ],
   "metadata": {
    "collapsed": false
   }
  },
  {
   "cell_type": "code",
   "execution_count": 4,
   "outputs": [
    {
     "name": "stdout",
     "output_type": "stream",
     "text": [
      "[CLS] 卡 多 不 好 批?? 。 我 1 5. 8 额 度 ， 申 了 两 次 没 有 批 ， 就 因 为 多 头 授 信 。 [SEP]\n",
      "B-PRODUCT O O O O O O O O O O O O O O O O O O O O O O O O O O O O O O O\n",
      "得到的分词数：34, 标注数：32\n"
     ]
    }
   ],
   "source": [
    "output = bert_tokenizer(list(train_raw.iloc[187,1]), is_split_into_words=True)\n",
    "print(bert_tokenizer.decode(output['input_ids']))\n",
    "print(train_raw.iloc[187,2])\n",
    "print(f'得到的分词数：{len(output[\"input_ids\"])}, 标注数：{len(train_raw.iloc[187,2].split())}')"
   ],
   "metadata": {
    "collapsed": false
   }
  },
  {
   "cell_type": "markdown",
   "source": [],
   "metadata": {
    "collapsed": false
   }
  }
 ],
 "metadata": {
  "kernelspec": {
   "display_name": "Python 3",
   "language": "python",
   "name": "python3"
  },
  "language_info": {
   "codemirror_mode": {
    "name": "ipython",
    "version": 2
   },
   "file_extension": ".py",
   "mimetype": "text/x-python",
   "name": "python",
   "nbconvert_exporter": "python",
   "pygments_lexer": "ipython2",
   "version": "2.7.6"
  }
 },
 "nbformat": 4,
 "nbformat_minor": 0
}
