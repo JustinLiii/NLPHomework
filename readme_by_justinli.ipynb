{
 "cells": [
  {
   "cell_type": "code",
   "execution_count": 3,
   "metadata": {
    "collapsed": true
   },
   "outputs": [],
   "source": [
    "import pandas as pd\n",
    "import torch"
   ]
  },
  {
   "cell_type": "markdown",
   "source": [
    "# 数据清洗注意事项"
   ],
   "metadata": {
    "collapsed": false
   },
   "outputs": []
  },
  {
   "cell_type": "markdown",
   "source": [
    "## 关于分词\n",
    "- 类别标注是按字符标注的，需要手动按字符分词\n",
    "- 注意分词后会在前后加入`[CLS]`和`[SEP]`，正常应该比标签长2\n",
    "\n",
    "以下是示例"
   ],
   "metadata": {
    "collapsed": false
   }
  },
  {
   "cell_type": "code",
   "execution_count": 4,
   "outputs": [
    {
     "name": "stderr",
     "output_type": "stream",
     "text": [
      "Using cache found in C:\\Users\\Justi/.cache\\torch\\hub\\huggingface_pytorch-transformers_main\n"
     ]
    }
   ],
   "source": [
    "train_fullname = './data/train_data_public.csv'\n",
    "train_raw = pd.read_csv(train_fullname)\n",
    "bert_tokenizer = torch.hub.load('huggingface/pytorch-transformers', 'tokenizer', 'bert-base-chinese')"
   ],
   "metadata": {
    "collapsed": false
   }
  },
  {
   "cell_type": "markdown",
   "source": [
    "**自动分词**"
   ],
   "metadata": {
    "collapsed": false
   }
  },
  {
   "cell_type": "code",
   "execution_count": 5,
   "outputs": [
    {
     "name": "stdout",
     "output_type": "stream",
     "text": [
      "[CLS] 卡 多 不 好 批?? 。 我 15. 8 额 度 ， 申 了 两 次 没 有 批 ， 就 因 为 多 头 授 信 。 [SEP]\n",
      "B-PRODUCT O O O O O O O O O O O O O O O O O O O O O O O O O O O O O O O\n",
      "得到的分词数：33, 标注数：32\n"
     ]
    }
   ],
   "source": [
    "output = bert_tokenizer(train_raw.iloc[187,1])\n",
    "print(bert_tokenizer.decode(output['input_ids']))\n",
    "print(train_raw.iloc[187,2])\n",
    "print(f'得到的分词数：{len(output[\"input_ids\"])}, 标注数：{len(train_raw.iloc[187,2].split())}')"
   ],
   "metadata": {
    "collapsed": false
   }
  },
  {
   "cell_type": "markdown",
   "source": [
    "**按字符分词**"
   ],
   "metadata": {
    "collapsed": false
   }
  },
  {
   "cell_type": "code",
   "execution_count": 6,
   "outputs": [
    {
     "name": "stdout",
     "output_type": "stream",
     "text": [
      "[CLS] 卡 多 不 好 批?? 。 我 1 5. 8 额 度 ， 申 了 两 次 没 有 批 ， 就 因 为 多 头 授 信 。 [SEP]\n",
      "B-PRODUCT O O O O O O O O O O O O O O O O O O O O O O O O O O O O O O O\n",
      "得到的分词数：34, 标注数：32\n"
     ]
    }
   ],
   "source": [
    "output = bert_tokenizer(list(train_raw.iloc[187,1]), is_split_into_words=True)\n",
    "print(bert_tokenizer.decode(output['input_ids']))\n",
    "print(train_raw.iloc[187,2])\n",
    "print(f'得到的分词数：{len(output[\"input_ids\"])}, 标注数：{len(train_raw.iloc[187,2].split())}')"
   ],
   "metadata": {
    "collapsed": false
   }
  },
  {
   "cell_type": "markdown",
   "source": [
    "## 关于空格\n",
    "- **似乎只有此现象影响了源数据字符串和标记串的长度一致性**\n",
    "- **似乎没有观察到字符串比标记串长的情况**\n",
    "<br>\n",
    "\n",
    "- 文本的空格同样被标上了标记\n",
    "- 文本的换行符没有标记\n",
    "- 使用`strip()`去除换行符和空格时，会丢弃字符串前后的空格\n",
    "- 处理后的字符串可能会比标记串短\n",
    "- 根据观察，这些空格都出现在行尾，可直接截断标记串"
   ],
   "metadata": {
    "collapsed": false
   }
  },
  {
   "cell_type": "code",
   "execution_count": 25,
   "outputs": [
    {
     "name": "stdout",
     "output_type": "stream",
     "text": [
      "id:\t\t933\n",
      "text:\tbegin|楼主，解决了吗？我的跟你一样，好操心 |end\n",
      "split:\t楼|主|，|解|决|了|吗|？|我|的|跟|你|一|样|，|好|操|心\n",
      "label:\tO|O|O|O|O|O|O|O|O|O|O|O|O|O|O|O|B-COMMENTS_ADJ|I-COMMENTS_ADJ|O\n",
      "text len:\t18\n",
      "label len\t19\n",
      "---------------------------------------\n",
      "id:\t\t1859\n",
      "text:\tbegin|广发_178k　|end\n",
      "split:\t广|发|_|1|7|8|k\n",
      "label:\tB-BANK|I-BANK|O|O|O|O|O|O\n",
      "text len:\t7\n",
      "label len\t8\n",
      "---------------------------------------\n",
      "id:\t\t2283\n",
      "text:\tbegin|中行_7.4k　|end\n",
      "split:\t中|行|_|7|.|4|k\n",
      "label:\tB-BANK|I-BANK|O|O|O|O|O|O\n",
      "text len:\t7\n",
      "label len\t8\n",
      "---------------------------------------\n",
      "id:\t\t2300\n",
      "text:\tbegin|招行_经典白100k　|end\n",
      "split:\t招|行|_|经|典|白|1|0|0|k\n",
      "label:\tB-BANK|I-BANK|O|B-PRODUCT|I-PRODUCT|I-PRODUCT|O|O|O|O|O\n",
      "text len:\t10\n",
      "label len\t11\n",
      "---------------------------------------\n",
      "id:\t\t3834\n",
      "text:\tbegin|工行无界白_100k　|end\n",
      "split:\t工|行|无|界|白|_|1|0|0|k\n",
      "label:\tB-BANK|I-BANK|B-PRODUCT|I-PRODUCT|I-PRODUCT|O|O|O|O|O|O\n",
      "text len:\t10\n",
      "label len\t11\n",
      "---------------------------------------\n",
      "id:\t\t5721\n",
      "text:\tbegin|中信好久不能调额了　　　　　　　　|end\n",
      "split:\t中|信|好|久|不|能|调|额|了\n",
      "label:\tB-BANK|I-BANK|B-COMMENTS_ADJ|I-COMMENTS_ADJ|B-COMMENTS_ADJ|I-COMMENTS_ADJ|O|O|O|O|O|O|O|O|O|O|O\n",
      "text len:\t9\n",
      "label len\t17\n",
      "---------------------------------------\n",
      "id:\t\t6135\n",
      "text:\tbegin|建行不再受理固定额度调整的个人申请，银行会根据个人的用卡情况不定期调整固定额度。\n",
      "|end\n",
      "split:\t建|行|不|再|受|理|固|定|额|度|调|整|的|个|人|申|请|，|银|行|会|根|据|个|人|的|用|卡|情|况|不|定|期|调|整|固|定|额|度|。\n",
      "label:\tB-BANK|I-BANK|O|O|O|O|O|O|B-COMMENTS_N|I-COMMENTS_N|O|O|O|O|O|O|O|O|O|O|O|O|O|O|O|O|O|O|O|O|O|O|O|O|O|O|O|B-COMMENTS_N|I-COMMENTS_N|O|O\n",
      "text len:\t40\n",
      "label len\t41\n",
      "---------------------------------------\n"
     ]
    }
   ],
   "source": [
    "for idx,row in train_raw.iterrows():\n",
    "    text, label = row['text'], row['BIO_anno']\n",
    "    if len(list(text.strip())) != len(label.strip().split()):\n",
    "        print(f'id:\\t\\t{idx}\\ntext:\\tbegin|{text}|end\\nsplit:\\t{\"|\".join(list(text.strip()))}\\nlabel:\\t{\"|\".join(label.strip().split())}\\ntext len:\\t{len(list(text.strip()))}\\nlabel len\\t{len(label.strip().split())}')\n",
    "        print('---------------------------------------')"
   ],
   "metadata": {
    "collapsed": false
   }
  }
 ],
 "metadata": {
  "kernelspec": {
   "display_name": "Python 3",
   "language": "python",
   "name": "python3"
  },
  "language_info": {
   "codemirror_mode": {
    "name": "ipython",
    "version": 2
   },
   "file_extension": ".py",
   "mimetype": "text/x-python",
   "name": "python",
   "nbconvert_exporter": "python",
   "pygments_lexer": "ipython2",
   "version": "2.7.6"
  }
 },
 "nbformat": 4,
 "nbformat_minor": 0
}
